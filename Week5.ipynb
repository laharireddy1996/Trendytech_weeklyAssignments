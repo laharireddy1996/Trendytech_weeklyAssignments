{
 "cells": [
  {
   "cell_type": "code",
   "execution_count": 1,
   "id": "be5cccac",
   "metadata": {},
   "outputs": [],
   "source": [
    "from pyspark.sql import SparkSession\n",
    "import getpass\n",
    "username = getpass.getuser()\n",
    "spark = SparkSession. \\\n",
    "builder. \\\n",
    "config('spark.ui.port','0'). \\\n",
    "config(\"spark.sql.warehouse.dir\",f\"/user/itv016269/warehouse\"). \\\n",
    "enableHiveSupport(). \\\n",
    "master('yarn'). \\\n",
    "getOrCreate()"
   ]
  },
  {
   "cell_type": "markdown",
   "id": "b477e58f",
   "metadata": {},
   "source": [
    "## Created a database"
   ]
  },
  {
   "cell_type": "code",
   "execution_count": 2,
   "id": "f15e5ee6",
   "metadata": {},
   "outputs": [
    {
     "data": {
      "text/html": [
       "<table border='1'>\n",
       "<tr><th></th></tr>\n",
       "</table>\n"
      ],
      "text/plain": [
       "++\n",
       "||\n",
       "++\n",
       "++"
      ]
     },
     "execution_count": 2,
     "metadata": {},
     "output_type": "execute_result"
    }
   ],
   "source": [
    "spark.sql(\"create database if not exists itv016269_databases\")"
   ]
  },
  {
   "cell_type": "code",
   "execution_count": 3,
   "id": "ccd2dcc1",
   "metadata": {},
   "outputs": [],
   "source": [
    "groceries_schema='order_id string, location string,item string, order_date date , quantity int'"
   ]
  },
  {
   "cell_type": "code",
   "execution_count": 4,
   "id": "06cd4f28",
   "metadata": {},
   "outputs": [],
   "source": [
    "grocreies_df=spark.read \\\n",
    ".format('csv') \\\n",
    ".option(\"header\",\"true\") \\\n",
    ".option(\"dateFormat\",\"dd/mm/yyyy\") \\\n",
    ".schema(groceries_schema) \\\n",
    ".load(\"/public/trendytech/groceries.csv\")"
   ]
  },
  {
   "cell_type": "code",
   "execution_count": 5,
   "id": "4c57e414",
   "metadata": {},
   "outputs": [],
   "source": [
    "grocreies_df.createOrReplaceTempView(\"groceries\")"
   ]
  },
  {
   "cell_type": "code",
   "execution_count": 44,
   "id": "b918f2b2",
   "metadata": {},
   "outputs": [
    {
     "name": "stdout",
     "output_type": "stream",
     "text": [
      "order_id,location,item,order_date,quantity\n",
      "o1,Seattle,Bananas,01/01/2017,7\n",
      "o2,Kent,Apples,02/01/2017,20\n",
      "o3,Bellevue,Flowers,02/01/2017,10\n",
      "o4,Redmond,Meat,03/01/2017,40\n",
      "o5,Seattle,Potatoes,04/01/2017,9\n",
      "o6,Bellevue,Bread,04/01/2017,5\n",
      "o7,Redmond,Bread,05/01/2017,5\n",
      "o8,Issaquah,Onion,05/01/2017,4\n",
      "o9,Redmond,Cheese,05/01/2017,15\n",
      "o10,Issaquah,Onion,06/01/2017,4\n",
      "o11,Renton,Bread,05/01/2017,5\n",
      "o12,Issaquah,Onion,07/01/2017,4\n",
      "o13,Sammamish,Bread,07/01/2017,5\n",
      "o14,Issaquah,Tomato,07/01/2017,6\n",
      "o15,Issaquah,Meat,08/01/2017,3\n",
      "o16,Issaquah,Meat,09/01/2017,5\n",
      "o17,Issaquah,Meat,10/01/2017,6\n",
      "o18,Bellevue,Bread,11/01/2017,7\n",
      "o19,Bellevue,Bread,12/01/2017,54\n",
      "o20,Bellevue,Bread,13/01/2017,34\n",
      "o21,Bellevue,Bread,14/01/2017,25\n"
     ]
    }
   ],
   "source": [
    "! hadoop fs -head /public/trendytech/groceries.csv"
   ]
  },
  {
   "cell_type": "code",
   "execution_count": 6,
   "id": "5bf0538a",
   "metadata": {},
   "outputs": [
    {
     "name": "stdout",
     "output_type": "stream",
     "text": [
      "+--------+---------+--------+----------+--------+\n",
      "|order_id| location|    item|order_date|quantity|\n",
      "+--------+---------+--------+----------+--------+\n",
      "|      o1|  Seattle| Bananas|2017-01-01|       7|\n",
      "|      o2|     Kent|  Apples|2017-01-02|      20|\n",
      "|      o3| Bellevue| Flowers|2017-01-02|      10|\n",
      "|      o4|  Redmond|    Meat|2017-01-03|      40|\n",
      "|      o5|  Seattle|Potatoes|2017-01-04|       9|\n",
      "|      o6| Bellevue|   Bread|2017-01-04|       5|\n",
      "|      o7|  Redmond|   Bread|2017-01-05|       5|\n",
      "|      o8| Issaquah|   Onion|2017-01-05|       4|\n",
      "|      o9|  Redmond|  Cheese|2017-01-05|      15|\n",
      "|     o10| Issaquah|   Onion|2017-01-06|       4|\n",
      "|     o11|   Renton|   Bread|2017-01-05|       5|\n",
      "|     o12| Issaquah|   Onion|2017-01-07|       4|\n",
      "|     o13|Sammamish|   Bread|2017-01-07|       5|\n",
      "|     o14| Issaquah|  Tomato|2017-01-07|       6|\n",
      "|     o15| Issaquah|    Meat|2017-01-08|       3|\n",
      "|     o16| Issaquah|    Meat|2017-01-09|       5|\n",
      "|     o17| Issaquah|    Meat|2017-01-10|       6|\n",
      "|     o18| Bellevue|   Bread|2017-01-11|       7|\n",
      "|     o19| Bellevue|   Bread|2017-01-12|      54|\n",
      "|     o20| Bellevue|   Bread|2017-01-13|      34|\n",
      "+--------+---------+--------+----------+--------+\n",
      "only showing top 20 rows\n",
      "\n"
     ]
    }
   ],
   "source": [
    "grocreies_df.show()"
   ]
  },
  {
   "cell_type": "markdown",
   "id": "05ed8d27",
   "metadata": {},
   "source": [
    "# Creating a Managed Table"
   ]
  },
  {
   "cell_type": "code",
   "execution_count": 7,
   "id": "e87d3548",
   "metadata": {},
   "outputs": [
    {
     "data": {
      "text/html": [
       "<table border='1'>\n",
       "<tr><th></th></tr>\n",
       "</table>\n"
      ],
      "text/plain": [
       "++\n",
       "||\n",
       "++\n",
       "++"
      ]
     },
     "execution_count": 7,
     "metadata": {},
     "output_type": "execute_result"
    }
   ],
   "source": [
    "spark.sql(\"create table itv016269_databases.groceries(order_id string, location string, item string, order_date date, quantity int) using csv\")"
   ]
  },
  {
   "cell_type": "code",
   "execution_count": 8,
   "id": "68e87c92",
   "metadata": {},
   "outputs": [
    {
     "name": "stdout",
     "output_type": "stream",
     "text": [
      "+----------+---------+-------+\n",
      "|  col_name|data_type|comment|\n",
      "+----------+---------+-------+\n",
      "|  order_id|   string|   null|\n",
      "|  location|   string|   null|\n",
      "|      item|   string|   null|\n",
      "|order_date|     date|   null|\n",
      "|  quantity|      int|   null|\n",
      "+----------+---------+-------+\n",
      "\n"
     ]
    }
   ],
   "source": [
    "spark.sql(\"describe table itv016269_databases.groceries\").show()"
   ]
  },
  {
   "cell_type": "code",
   "execution_count": 9,
   "id": "01f78a9f",
   "metadata": {},
   "outputs": [
    {
     "data": {
      "text/html": [
       "<table border='1'>\n",
       "<tr><th></th></tr>\n",
       "</table>\n"
      ],
      "text/plain": [
       "++\n",
       "||\n",
       "++\n",
       "++"
      ]
     },
     "execution_count": 9,
     "metadata": {},
     "output_type": "execute_result"
    }
   ],
   "source": [
    "spark.sql(\"insert into itv016269_databases.groceries select * from groceries\")"
   ]
  },
  {
   "cell_type": "code",
   "execution_count": 10,
   "id": "b7c489d4",
   "metadata": {},
   "outputs": [
    {
     "name": "stdout",
     "output_type": "stream",
     "text": [
      "+--------+---------+--------+----------+--------+\n",
      "|order_id| location|    item|order_date|quantity|\n",
      "+--------+---------+--------+----------+--------+\n",
      "|      o1|  Seattle| Bananas|2017-01-01|       7|\n",
      "|      o2|     Kent|  Apples|2017-01-02|      20|\n",
      "|      o3| Bellevue| Flowers|2017-01-02|      10|\n",
      "|      o4|  Redmond|    Meat|2017-01-03|      40|\n",
      "|      o5|  Seattle|Potatoes|2017-01-04|       9|\n",
      "|      o6| Bellevue|   Bread|2017-01-04|       5|\n",
      "|      o7|  Redmond|   Bread|2017-01-05|       5|\n",
      "|      o8| Issaquah|   Onion|2017-01-05|       4|\n",
      "|      o9|  Redmond|  Cheese|2017-01-05|      15|\n",
      "|     o10| Issaquah|   Onion|2017-01-06|       4|\n",
      "|     o11|   Renton|   Bread|2017-01-05|       5|\n",
      "|     o12| Issaquah|   Onion|2017-01-07|       4|\n",
      "|     o13|Sammamish|   Bread|2017-01-07|       5|\n",
      "|     o14| Issaquah|  Tomato|2017-01-07|       6|\n",
      "|     o15| Issaquah|    Meat|2017-01-08|       3|\n",
      "|     o16| Issaquah|    Meat|2017-01-09|       5|\n",
      "|     o17| Issaquah|    Meat|2017-01-10|       6|\n",
      "|     o18| Bellevue|   Bread|2017-01-11|       7|\n",
      "|     o19| Bellevue|   Bread|2017-01-12|      54|\n",
      "|     o20| Bellevue|   Bread|2017-01-13|      34|\n",
      "+--------+---------+--------+----------+--------+\n",
      "only showing top 20 rows\n",
      "\n"
     ]
    }
   ],
   "source": [
    "spark.sql(\"select * from itv016269_databases.groceries\").show()"
   ]
  },
  {
   "cell_type": "markdown",
   "id": "31960905",
   "metadata": {},
   "source": [
    "# Creating an External Table"
   ]
  },
  {
   "cell_type": "code",
   "execution_count": 11,
   "id": "6e6513cc",
   "metadata": {},
   "outputs": [
    {
     "data": {
      "text/html": [
       "<table border='1'>\n",
       "<tr><th></th></tr>\n",
       "</table>\n"
      ],
      "text/plain": [
       "++\n",
       "||\n",
       "++\n",
       "++"
      ]
     },
     "execution_count": 11,
     "metadata": {},
     "output_type": "execute_result"
    }
   ],
   "source": [
    "spark.sql(\"create table itv016269_databases.groceries_ext(order_id string, location string, item string, order_date date, quantity int) using csv location '/public/trendytech/groceries.csv'\")"
   ]
  },
  {
   "cell_type": "code",
   "execution_count": 12,
   "id": "03549584",
   "metadata": {},
   "outputs": [
    {
     "name": "stdout",
     "output_type": "stream",
     "text": [
      "+----------+---------+-------+\n",
      "|  col_name|data_type|comment|\n",
      "+----------+---------+-------+\n",
      "|  order_id|   string|   null|\n",
      "|  location|   string|   null|\n",
      "|      item|   string|   null|\n",
      "|order_date|     date|   null|\n",
      "|  quantity|      int|   null|\n",
      "+----------+---------+-------+\n",
      "\n"
     ]
    }
   ],
   "source": [
    "spark.sql(\"describe table itv016269_databases.groceries_ext\").show()"
   ]
  },
  {
   "cell_type": "code",
   "execution_count": 13,
   "id": "87694f54",
   "metadata": {},
   "outputs": [
    {
     "name": "stdout",
     "output_type": "stream",
     "text": [
      "+-------------------+---------------+-----------+\n",
      "|           database|      tableName|isTemporary|\n",
      "+-------------------+---------------+-----------+\n",
      "|itv016269_databases|cust_transf_ext|      false|\n",
      "|itv016269_databases|      groceries|      false|\n",
      "|itv016269_databases|  groceries_ext|      false|\n",
      "|                   |      groceries|       true|\n",
      "+-------------------+---------------+-----------+\n",
      "\n"
     ]
    }
   ],
   "source": [
    "spark.sql(\"use itv016269_databases\")\n",
    "spark.sql(\"show tables\").show()"
   ]
  },
  {
   "cell_type": "code",
   "execution_count": 14,
   "id": "585abd0a",
   "metadata": {},
   "outputs": [
    {
     "data": {
      "text/html": [
       "<table border='1'>\n",
       "<tr><th></th></tr>\n",
       "</table>\n"
      ],
      "text/plain": [
       "++\n",
       "||\n",
       "++\n",
       "++"
      ]
     },
     "execution_count": 14,
     "metadata": {},
     "output_type": "execute_result"
    }
   ],
   "source": [
    "spark.sql(\"drop table itv016269_databases.groceries\")"
   ]
  },
  {
   "cell_type": "code",
   "execution_count": 15,
   "id": "915193c0",
   "metadata": {},
   "outputs": [
    {
     "data": {
      "text/html": [
       "<table border='1'>\n",
       "<tr><th></th></tr>\n",
       "</table>\n"
      ],
      "text/plain": [
       "++\n",
       "||\n",
       "++\n",
       "++"
      ]
     },
     "execution_count": 15,
     "metadata": {},
     "output_type": "execute_result"
    }
   ],
   "source": [
    "spark.sql(\"drop table itv016269_databases.groceries_ext\")"
   ]
  },
  {
   "cell_type": "code",
   "execution_count": 16,
   "id": "aed46141",
   "metadata": {},
   "outputs": [
    {
     "name": "stdout",
     "output_type": "stream",
     "text": [
      "+-------------------+---------------+-----------+\n",
      "|           database|      tableName|isTemporary|\n",
      "+-------------------+---------------+-----------+\n",
      "|itv016269_databases|cust_transf_ext|      false|\n",
      "|                   |      groceries|       true|\n",
      "+-------------------+---------------+-----------+\n",
      "\n"
     ]
    }
   ],
   "source": [
    "spark.sql(\"show tables\").show()"
   ]
  },
  {
   "cell_type": "markdown",
   "id": "75e40525",
   "metadata": {},
   "source": [
    "Since both managed and external tables are dropped, there is only the temporary table existing in this database. Managed tables create a table path in the above mentioned path while creating the spark session. When the managed table is dropped, the file also gets deleted from the path. External table uses the path location and fetches data from there and when the table is dropped, only the metadata gets deleted but the file still exists in the dervied path."
   ]
  },
  {
   "cell_type": "code",
   "execution_count": 17,
   "id": "212ba670",
   "metadata": {},
   "outputs": [],
   "source": [
    "orders_schema='customer_id double, order_date date, order_id int, order_status string'"
   ]
  },
  {
   "cell_type": "code",
   "execution_count": 18,
   "id": "d405c9a5",
   "metadata": {},
   "outputs": [],
   "source": [
    "orders_df=spark.read \\\n",
    ".format('json') \\\n",
    ".option(\"header\",\"true\") \\\n",
    ".schema(orders_schema) \\\n",
    ".load(\"/public/trendytech/orders_wh.json/part-00000-68544d18-9a34-443f-bf0e-1dd8103ff94e-c000.json\")"
   ]
  },
  {
   "cell_type": "code",
   "execution_count": 19,
   "id": "8df30ded",
   "metadata": {},
   "outputs": [
    {
     "name": "stdout",
     "output_type": "stream",
     "text": [
      "+-----------+----------+--------+---------------+\n",
      "|customer_id|order_date|order_id|   order_status|\n",
      "+-----------+----------+--------+---------------+\n",
      "|    11599.0|2013-07-25|       1|         CLOSED|\n",
      "|      256.0|2013-07-25|       2|PENDING_PAYMENT|\n",
      "|    12111.0|2013-07-25|       3|       COMPLETE|\n",
      "|     8827.0|2013-07-25|       4|         CLOSED|\n",
      "|    11318.0|2013-07-25|       5|       COMPLETE|\n",
      "|     7130.0|2013-07-25|       6|       COMPLETE|\n",
      "|     4530.0|2013-07-25|       7|       COMPLETE|\n",
      "|     2911.0|2013-07-25|       8|     PROCESSING|\n",
      "|     5657.0|2013-07-25|       9|PENDING_PAYMENT|\n",
      "|     5648.0|2013-07-25|      10|PENDING_PAYMENT|\n",
      "|      918.0|2013-07-25|      11| PAYMENT_REVIEW|\n",
      "|     1837.0|2013-07-25|      12|         CLOSED|\n",
      "|     9149.0|2013-07-25|      13|PENDING_PAYMENT|\n",
      "|     9842.0|2013-07-25|      14|     PROCESSING|\n",
      "|     2568.0|2013-07-25|      15|       COMPLETE|\n",
      "|     7276.0|2013-07-25|      16|PENDING_PAYMENT|\n",
      "|     2667.0|2013-07-25|      17|       COMPLETE|\n",
      "|     1205.0|2013-07-25|      18|         CLOSED|\n",
      "|     9488.0|2013-07-25|      19|PENDING_PAYMENT|\n",
      "|     9198.0|2013-07-25|      20|     PROCESSING|\n",
      "+-----------+----------+--------+---------------+\n",
      "only showing top 20 rows\n",
      "\n"
     ]
    }
   ],
   "source": [
    "orders_df.show()"
   ]
  },
  {
   "cell_type": "code",
   "execution_count": 20,
   "id": "09f8f774",
   "metadata": {},
   "outputs": [],
   "source": [
    "products_schema='ProductID int, Category string, ProductName string, Description string, Price float, ImageURL string'"
   ]
  },
  {
   "cell_type": "code",
   "execution_count": 21,
   "id": "1bc3fbaf",
   "metadata": {},
   "outputs": [],
   "source": [
    "products_df=spark.read \\\n",
    ".format('csv') \\\n",
    ".option(\"header\",\"true\") \\\n",
    ".schema(products_schema) \\\n",
    ".load(\"/public/trendytech/retail_db/products\")"
   ]
  },
  {
   "cell_type": "code",
   "execution_count": 22,
   "id": "20fde27c",
   "metadata": {},
   "outputs": [
    {
     "name": "stdout",
     "output_type": "stream",
     "text": [
      "+---------+--------+--------------------+-----------+------+--------------------+\n",
      "|ProductID|Category|         ProductName|Description| Price|            ImageURL|\n",
      "+---------+--------+--------------------+-----------+------+--------------------+\n",
      "|        2|       2|Under Armour Men'...|       null|129.99|http://images.acm...|\n",
      "|        3|       2|Under Armour Men'...|       null| 89.99|http://images.acm...|\n",
      "|        4|       2|Under Armour Men'...|       null| 89.99|http://images.acm...|\n",
      "|        5|       2|Riddell Youth Rev...|       null|199.99|http://images.acm...|\n",
      "|        6|       2|Jordan Men's VI R...|       null|134.99|http://images.acm...|\n",
      "|        7|       2|Schutt Youth Recr...|       null| 99.99|http://images.acm...|\n",
      "|        8|       2|Nike Men's Vapor ...|       null|129.99|http://images.acm...|\n",
      "|        9|       2|Nike Adult Vapor ...|       null|  50.0|http://images.acm...|\n",
      "|       10|       2|Under Armour Men'...|       null|129.99|http://images.acm...|\n",
      "|       11|       2|Fitness Gear 300 ...|       null|209.99|http://images.acm...|\n",
      "|       12|       2|Under Armour Men'...|       null|139.99|http://images.acm...|\n",
      "|       13|       2|Under Armour Men'...|       null| 89.99|http://images.acm...|\n",
      "|       14|       2|Quik Shade Summit...|       null|199.99|http://images.acm...|\n",
      "|       15|       2|Under Armour Kids...|       null| 59.99|http://images.acm...|\n",
      "|       16|       2|Riddell Youth 360...|       null|299.99|http://images.acm...|\n",
      "|       17|       2|Under Armour Men'...|       null|129.99|http://images.acm...|\n",
      "|       18|       2|Reebok Men's Full...|       null| 29.97|http://images.acm...|\n",
      "|       19|       2|Nike Men's Finger...|       null|124.99|http://images.acm...|\n",
      "|       20|       2|Under Armour Men'...|       null|129.99|http://images.acm...|\n",
      "|       21|       2|Under Armour Kids...|       null| 54.99|http://images.acm...|\n",
      "+---------+--------+--------------------+-----------+------+--------------------+\n",
      "only showing top 20 rows\n",
      "\n"
     ]
    }
   ],
   "source": [
    "products_df.show()"
   ]
  },
  {
   "cell_type": "code",
   "execution_count": 23,
   "id": "4543f37d",
   "metadata": {},
   "outputs": [],
   "source": [
    "products_df.createOrReplaceTempView(\"products\")"
   ]
  },
  {
   "cell_type": "code",
   "execution_count": 24,
   "id": "68b221ad",
   "metadata": {},
   "outputs": [
    {
     "name": "stdout",
     "output_type": "stream",
     "text": [
      "+--------------+\n",
      "|no_of_products|\n",
      "+--------------+\n",
      "|          1344|\n",
      "+--------------+\n",
      "\n"
     ]
    }
   ],
   "source": [
    "spark.sql(\"select count(*) as no_of_products from products\").show()"
   ]
  },
  {
   "cell_type": "code",
   "execution_count": 32,
   "id": "fc557fad",
   "metadata": {},
   "outputs": [
    {
     "name": "stdout",
     "output_type": "stream",
     "text": [
      "+----------------+\n",
      "|no_of_categories|\n",
      "+----------------+\n",
      "|               5|\n",
      "|              48|\n",
      "|              23|\n",
      "|              20|\n",
      "|              24|\n",
      "+----------------+\n",
      "\n"
     ]
    }
   ],
   "source": [
    "spark.sql(\"select distinct(count(category)) as no_of_categories from products group by category \").show()"
   ]
  },
  {
   "cell_type": "code",
   "execution_count": 40,
   "id": "1c818f52",
   "metadata": {},
   "outputs": [
    {
     "name": "stdout",
     "output_type": "stream",
     "text": [
      "+--------+--------------------+-------+--------------------+\n",
      "|category|         productName|  price|            ImageURL|\n",
      "+--------+--------------------+-------+--------------------+\n",
      "|      10| SOLE E35 Elliptical|1999.99|http://images.acm...|\n",
      "|       4|  SOLE F85 Treadmill|1799.99|http://images.acm...|\n",
      "|      10|  SOLE F85 Treadmill|1799.99|http://images.acm...|\n",
      "|      22|  SOLE F85 Treadmill|1799.99|http://images.acm...|\n",
      "|      47|\"Spalding Beast 6...|1099.99|http://images.acm...|\n",
      "+--------+--------------------+-------+--------------------+\n",
      "\n"
     ]
    }
   ],
   "source": [
    "spark.sql(\"select category, productName, price, ImageURL from products order by price desc limit 5\").show()"
   ]
  },
  {
   "cell_type": "code",
   "execution_count": 42,
   "id": "d759e6c7",
   "metadata": {},
   "outputs": [
    {
     "name": "stdout",
     "output_type": "stream",
     "text": [
      "+--------+--------------+\n",
      "|category|no_of_products|\n",
      "+--------+--------------+\n",
      "|       7|             6|\n",
      "|      51|             7|\n",
      "|      54|             6|\n",
      "|      11|            19|\n",
      "|      29|             9|\n",
      "|      42|             4|\n",
      "|       3|             5|\n",
      "|      30|            17|\n",
      "|      34|            15|\n",
      "|       8|             5|\n",
      "|      22|             4|\n",
      "|      16|            11|\n",
      "|      35|            15|\n",
      "|      52|             5|\n",
      "|      47|            10|\n",
      "|      43|            23|\n",
      "|       5|            11|\n",
      "|      31|            17|\n",
      "|      18|            14|\n",
      "|      17|             8|\n",
      "+--------+--------------+\n",
      "only showing top 20 rows\n",
      "\n"
     ]
    }
   ],
   "source": [
    "spark.sql(\"select category, count(*) as no_of_products from products where price > 100 group by category\").show()"
   ]
  },
  {
   "cell_type": "code",
   "execution_count": 43,
   "id": "ff4c1cf1",
   "metadata": {},
   "outputs": [
    {
     "name": "stdout",
     "output_type": "stream",
     "text": [
      "+--------------------+------+\n",
      "|         ProductName| Price|\n",
      "+--------------------+------+\n",
      "|\"Goaliath 54\"\" In...|499.99|\n",
      "|Fitness Gear 300 ...|209.99|\n",
      "|Teeter Hang Ups N...|299.99|\n",
      "+--------------------+------+\n",
      "\n"
     ]
    }
   ],
   "source": [
    "spark.sql(\"select ProductName, Price from products where price >200 and category =5 \").show()"
   ]
  },
  {
   "cell_type": "code",
   "execution_count": 21,
   "id": "fe83f0e4",
   "metadata": {},
   "outputs": [],
   "source": [
    "customers_schema='cust_id int, cust_fname string, cust_lname string, cust_email string, cust_password string, cust_street string, cust_city string, cust_state string, cust_zipcode int'"
   ]
  },
  {
   "cell_type": "code",
   "execution_count": 22,
   "id": "03f312bc",
   "metadata": {},
   "outputs": [],
   "source": [
    "customers_df=spark.read \\\n",
    ".format('csv') \\\n",
    ".option(\"header\",\"true\") \\\n",
    ".schema(customers_schema) \\\n",
    ".load(\"/public/trendytech/retail_db/customers\")"
   ]
  },
  {
   "cell_type": "code",
   "execution_count": 23,
   "id": "1937c856",
   "metadata": {},
   "outputs": [
    {
     "name": "stdout",
     "output_type": "stream",
     "text": [
      "+-------+-----------+----------+----------+-------------+--------------------+-------------+----------+------------+\n",
      "|cust_id| cust_fname|cust_lname|cust_email|cust_password|         cust_street|    cust_city|cust_state|cust_zipcode|\n",
      "+-------+-----------+----------+----------+-------------+--------------------+-------------+----------+------------+\n",
      "|      2|       Mary|   Barrett| XXXXXXXXX|    XXXXXXXXX|9526 Noble Embers...|    Littleton|        CO|       80126|\n",
      "|      3|        Ann|     Smith| XXXXXXXXX|    XXXXXXXXX|3422 Blue Pioneer...|       Caguas|        PR|         725|\n",
      "|      4|       Mary|     Jones| XXXXXXXXX|    XXXXXXXXX|  8324 Little Common|   San Marcos|        CA|       92069|\n",
      "|      5|     Robert|    Hudson| XXXXXXXXX|    XXXXXXXXX|10 Crystal River ...|       Caguas|        PR|         725|\n",
      "|      6|       Mary|     Smith| XXXXXXXXX|    XXXXXXXXX|3151 Sleepy Quail...|      Passaic|        NJ|        7055|\n",
      "|      7|    Melissa|    Wilcox| XXXXXXXXX|    XXXXXXXXX|9453 High Concession|       Caguas|        PR|         725|\n",
      "|      8|      Megan|     Smith| XXXXXXXXX|    XXXXXXXXX|3047 Foggy Forest...|     Lawrence|        MA|        1841|\n",
      "|      9|       Mary|     Perez| XXXXXXXXX|    XXXXXXXXX| 3616 Quaking Street|       Caguas|        PR|         725|\n",
      "|     10|    Melissa|     Smith| XXXXXXXXX|    XXXXXXXXX|8598 Harvest Beac...|     Stafford|        VA|       22554|\n",
      "|     11|       Mary|   Huffman| XXXXXXXXX|    XXXXXXXXX|    3169 Stony Woods|       Caguas|        PR|         725|\n",
      "|     12|Christopher|     Smith| XXXXXXXXX|    XXXXXXXXX|5594 Jagged Ember...|  San Antonio|        TX|       78227|\n",
      "|     13|       Mary|   Baldwin| XXXXXXXXX|    XXXXXXXXX|7922 Iron Oak Gar...|       Caguas|        PR|         725|\n",
      "|     14|  Katherine|     Smith| XXXXXXXXX|    XXXXXXXXX|5666 Hazy Pony Sq...|  Pico Rivera|        CA|       90660|\n",
      "|     15|       Jane|      Luna| XXXXXXXXX|    XXXXXXXXX|    673 Burning Glen|      Fontana|        CA|       92336|\n",
      "|     16|    Tiffany|     Smith| XXXXXXXXX|    XXXXXXXXX|      6651 Iron Port|       Caguas|        PR|         725|\n",
      "|     17|       Mary|  Robinson| XXXXXXXXX|    XXXXXXXXX|     1325 Noble Pike|       Taylor|        MI|       48180|\n",
      "|     18|     Robert|     Smith| XXXXXXXXX|    XXXXXXXXX|2734 Hazy Butterf...|     Martinez|        CA|       94553|\n",
      "|     19|  Stephanie|  Mitchell| XXXXXXXXX|    XXXXXXXXX|3543 Red Treasure...|       Caguas|        PR|         725|\n",
      "|     20|       Mary|     Ellis| XXXXXXXXX|    XXXXXXXXX|      4703 Old Route|West New York|        NJ|        7093|\n",
      "|     21|    William| Zimmerman| XXXXXXXXX|    XXXXXXXXX|3323 Old Willow M...|       Caguas|        PR|         725|\n",
      "+-------+-----------+----------+----------+-------------+--------------------+-------------+----------+------------+\n",
      "only showing top 20 rows\n",
      "\n"
     ]
    }
   ],
   "source": [
    "customers_df.show()"
   ]
  },
  {
   "cell_type": "markdown",
   "id": "d3741fb2",
   "metadata": {},
   "source": [
    "Customers by state"
   ]
  },
  {
   "cell_type": "code",
   "execution_count": 24,
   "id": "57a43b97",
   "metadata": {},
   "outputs": [
    {
     "name": "stdout",
     "output_type": "stream",
     "text": [
      "+----------+-----+\n",
      "|cust_state|count|\n",
      "+----------+-----+\n",
      "|        AZ|  213|\n",
      "|        SC|   41|\n",
      "|        LA|   63|\n",
      "|        MN|   39|\n",
      "|        NJ|  219|\n",
      "|        DC|   42|\n",
      "|        OR|  119|\n",
      "|        VA|  136|\n",
      "|        RI|   15|\n",
      "|        KY|   35|\n",
      "|        MI|  254|\n",
      "|        NV|  103|\n",
      "|        WI|   64|\n",
      "|        ID|    9|\n",
      "|        CA| 2012|\n",
      "|        CT|   73|\n",
      "|        MT|    7|\n",
      "|        NC|  150|\n",
      "|        MD|  164|\n",
      "|        DE|   23|\n",
      "+----------+-----+\n",
      "only showing top 20 rows\n",
      "\n"
     ]
    }
   ],
   "source": [
    "customers_df.groupBy('cust_state').count().show()"
   ]
  },
  {
   "cell_type": "code",
   "execution_count": 30,
   "id": "d8a5c3b3",
   "metadata": {},
   "outputs": [],
   "source": [
    "from pyspark.sql.functions import *"
   ]
  },
  {
   "cell_type": "markdown",
   "id": "4eb21ad9",
   "metadata": {},
   "source": [
    "###5 customers with the most common last name"
   ]
  },
  {
   "cell_type": "code",
   "execution_count": 32,
   "id": "6d34174e",
   "metadata": {},
   "outputs": [
    {
     "name": "stdout",
     "output_type": "stream",
     "text": [
      "+----------+-----+\n",
      "|cust_lname|count|\n",
      "+----------+-----+\n",
      "|     Smith| 4626|\n",
      "|   Johnson|   76|\n",
      "|  Williams|   69|\n",
      "|     Jones|   65|\n",
      "|     Brown|   62|\n",
      "+----------+-----+\n",
      "\n"
     ]
    }
   ],
   "source": [
    "grouped_df = customers_df.groupBy('cust_lname').agg(count('cust_lname').alias(\"count\")).orderBy(col('count').desc()).limit(5).show()"
   ]
  },
  {
   "cell_type": "markdown",
   "id": "04f38495",
   "metadata": {},
   "source": [
    "Customers with invalid zipcode"
   ]
  },
  {
   "cell_type": "code",
   "execution_count": 34,
   "id": "a8fbd93b",
   "metadata": {},
   "outputs": [
    {
     "name": "stdout",
     "output_type": "stream",
     "text": [
      "+-------+----------+----------+----------+-------------+--------------------+-------------+----------+------------+\n",
      "|cust_id|cust_fname|cust_lname|cust_email|cust_password|         cust_street|    cust_city|cust_state|cust_zipcode|\n",
      "+-------+----------+----------+----------+-------------+--------------------+-------------+----------+------------+\n",
      "|      3|       Ann|     Smith| XXXXXXXXX|    XXXXXXXXX|3422 Blue Pioneer...|       Caguas|        PR|         725|\n",
      "|      5|    Robert|    Hudson| XXXXXXXXX|    XXXXXXXXX|10 Crystal River ...|       Caguas|        PR|         725|\n",
      "|      6|      Mary|     Smith| XXXXXXXXX|    XXXXXXXXX|3151 Sleepy Quail...|      Passaic|        NJ|        7055|\n",
      "|      7|   Melissa|    Wilcox| XXXXXXXXX|    XXXXXXXXX|9453 High Concession|       Caguas|        PR|         725|\n",
      "|      8|     Megan|     Smith| XXXXXXXXX|    XXXXXXXXX|3047 Foggy Forest...|     Lawrence|        MA|        1841|\n",
      "|      9|      Mary|     Perez| XXXXXXXXX|    XXXXXXXXX| 3616 Quaking Street|       Caguas|        PR|         725|\n",
      "|     11|      Mary|   Huffman| XXXXXXXXX|    XXXXXXXXX|    3169 Stony Woods|       Caguas|        PR|         725|\n",
      "|     13|      Mary|   Baldwin| XXXXXXXXX|    XXXXXXXXX|7922 Iron Oak Gar...|       Caguas|        PR|         725|\n",
      "|     16|   Tiffany|     Smith| XXXXXXXXX|    XXXXXXXXX|      6651 Iron Port|       Caguas|        PR|         725|\n",
      "|     19| Stephanie|  Mitchell| XXXXXXXXX|    XXXXXXXXX|3543 Red Treasure...|       Caguas|        PR|         725|\n",
      "|     20|      Mary|     Ellis| XXXXXXXXX|    XXXXXXXXX|      4703 Old Route|West New York|        NJ|        7093|\n",
      "|     21|   William| Zimmerman| XXXXXXXXX|    XXXXXXXXX|3323 Old Willow M...|       Caguas|        PR|         725|\n",
      "|     22|    Joseph|     Smith| XXXXXXXXX|    XXXXXXXXX|7740 Broad Fox Vi...| North Bergen|        NJ|        7047|\n",
      "|     23|  Benjamin|    Duarte| XXXXXXXXX|    XXXXXXXXX|8811 High Horse I...|     San Juan|        PR|         921|\n",
      "|     24|      Mary|     Smith| XXXXXXXXX|    XXXXXXXXX| 9417 Emerald Towers|       Caguas|        PR|         725|\n",
      "|     27|      Mary|   Vincent| XXXXXXXXX|    XXXXXXXXX|1768 Sleepy Zephy...|       Caguas|        PR|         725|\n",
      "|     30|   Barbara|     Smith| XXXXXXXXX|    XXXXXXXXX|   2455 Merry Hollow|       Caguas|        PR|         725|\n",
      "|     32|     Alice|     Smith| XXXXXXXXX|    XXXXXXXXX|   2082 Hidden Green|       Caguas|        PR|         725|\n",
      "|     34|      Mary|     Smith| XXXXXXXXX|    XXXXXXXXX|3330 Easy Berry R...|       Caguas|        PR|         725|\n",
      "|     36|  Michelle|     Carey| XXXXXXXXX|    XXXXXXXXX| 6336 Fallen Village|       Caguas|        PR|         725|\n",
      "+-------+----------+----------+----------+-------------+--------------------+-------------+----------+------------+\n",
      "only showing top 20 rows\n",
      "\n"
     ]
    }
   ],
   "source": [
    "customers_df.filter(length(col('cust_zipcode')) != 5).show()"
   ]
  },
  {
   "cell_type": "markdown",
   "id": "e2bcac5e",
   "metadata": {},
   "source": [
    "Number of customers with valid zipcode"
   ]
  },
  {
   "cell_type": "code",
   "execution_count": 40,
   "id": "a1e817bc",
   "metadata": {},
   "outputs": [
    {
     "data": {
      "text/plain": [
       "7243"
      ]
     },
     "execution_count": 40,
     "metadata": {},
     "output_type": "execute_result"
    }
   ],
   "source": [
    "customers_df.filter(length(col('cust_zipcode')) == 5).count()"
   ]
  },
  {
   "cell_type": "markdown",
   "id": "39131140",
   "metadata": {},
   "source": [
    "Number of customers in each city of California"
   ]
  },
  {
   "cell_type": "code",
   "execution_count": 26,
   "id": "6b890bf6",
   "metadata": {},
   "outputs": [
    {
     "name": "stdout",
     "output_type": "stream",
     "text": [
      "+-------------+-----+\n",
      "|    cust_city|count|\n",
      "+-------------+-----+\n",
      "|       Corona|   14|\n",
      "|    Pittsburg|    4|\n",
      "|      Compton|   19|\n",
      "|    Palo Alto|    6|\n",
      "|      Hanford|    9|\n",
      "|      Anaheim|   19|\n",
      "|       Folsom|    6|\n",
      "|         Napa|    8|\n",
      "|     Temecula|    6|\n",
      "|       Reseda|    6|\n",
      "|    Encinitas|   17|\n",
      "|    Oceanside|   24|\n",
      "|    Cupertino|    9|\n",
      "|      Oakland|    3|\n",
      "|        Davis|    9|\n",
      "|      Fontana|   18|\n",
      "|Mission Viejo|   26|\n",
      "|       Madera|    5|\n",
      "|    Elk Grove|   10|\n",
      "|  Bakersfield|   41|\n",
      "+-------------+-----+\n",
      "only showing top 20 rows\n",
      "\n"
     ]
    }
   ],
   "source": [
    "customers_df.filter(\"cust_state == 'CA'\").groupBy('cust_city').count().show()"
   ]
  },
  {
   "cell_type": "code",
   "execution_count": null,
   "id": "f305ce83",
   "metadata": {},
   "outputs": [],
   "source": []
  }
 ],
 "metadata": {
  "kernelspec": {
   "display_name": "Pyspark 3",
   "language": "python",
   "name": "pyspark3"
  },
  "language_info": {
   "codemirror_mode": {
    "name": "ipython",
    "version": 3
   },
   "file_extension": ".py",
   "mimetype": "text/x-python",
   "name": "python",
   "nbconvert_exporter": "python",
   "pygments_lexer": "ipython3",
   "version": "3.6.12"
  }
 },
 "nbformat": 4,
 "nbformat_minor": 5
}
